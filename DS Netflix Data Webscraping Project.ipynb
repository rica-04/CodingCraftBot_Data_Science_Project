{
 "cells": [
  {
   "cell_type": "code",
   "execution_count": null,
   "id": "2330d35d-32d0-4fd5-8d39-cdac30dd565c",
   "metadata": {},
   "outputs": [],
   "source": [
    "#!pip install pandas\n",
    "#!pip install requests\n",
    "!pip install bs4\n",
    "#!pip install plotly"
   ]
  },
  {
   "cell_type": "code",
   "execution_count": null,
   "id": "ef9c8f17-90b1-4397-b44f-b7ae255e149e",
   "metadata": {},
   "outputs": [],
   "source": [
    "import pandas as pd\n",
    "import requests\n",
    "from bs4 import BeautifulSoup"
   ]
  },
  {
   "cell_type": "markdown",
   "id": "ed96385d-83f6-4286-a965-0c53a8c598fc",
   "metadata": {},
   "source": [
    "__Using Webscraping to Extract Stock Data Example__"
   ]
  },
  {
   "cell_type": "markdown",
   "id": "7089d122-96d6-416a-83c2-3e967f0912c7",
   "metadata": {},
   "source": [
    "First we must use the `request` library to download the webpage,and extract the text.We will extract Nertflix stock data\n",
    "https://cf-courses-data.s3.us.cloud-object-storage.appdomain.cloud/IBMDeveloperSkillsNetwork-PY0220EN-SkillsNetwork/labs/project/netflix_data_webpage.html."
   ]
  },
  {
   "cell_type": "code",
   "execution_count": null,
   "id": "45e640e5-6853-4ec6-8192-793442497216",
   "metadata": {},
   "outputs": [],
   "source": [
    "url=\"https://cf-courses-data.s3.us.cloud-object-storage.appdomain.cloud/IBMDeveloperSkillsNetwork-PY0220EN-SkillsNetwork/labs/project/netflix_data_webpage.html\"\n",
    "data=requests.get(url).text"
   ]
  },
  {
   "cell_type": "markdown",
   "id": "57de424b-5dca-440b-bec8-370601d09267",
   "metadata": {},
   "source": [
    "Next we must parse the text into html using `beautiful_soup`."
   ]
  },
  {
   "cell_type": "code",
   "execution_count": null,
   "id": "8c461a8f-4eeb-421f-bbf3-8812b2ed9851",
   "metadata": {},
   "outputs": [],
   "source": [
    "beautiful_soup=BeautifulSoup(data,'html5lib')"
   ]
  },
  {
   "cell_type": "markdown",
   "id": "bd7cb7c1-0c16-4d13-83dd-6b6d67e8eac3",
   "metadata": {},
   "source": [
    "Now we can turn the html table into a pandas dataframe"
   ]
  },
  {
   "cell_type": "code",
   "execution_count": null,
   "id": "9961d32c-c4ed-4f65-b2f4-17fbf1b9188d",
   "metadata": {},
   "outputs": [],
   "source": [
    "netflix_data=pd.DataFrame(columns=[\"Date\",\"Open\",\"High\",\"Low\",\"Close\",\"Volume\"])\n",
    "for row in soup.find(\"tbody\").find_all(\"tr\"):\n",
    "    col=row.find_all(\"td\")\n",
    "    date=col[0].text\n",
    "    Open=col[1].text\n",
    "    high=col[2].text\n",
    "    low=col[3].text\n",
    "    close=col[4].text\n",
    "    adj_close=col[5].text\n",
    "    volume=col[6].text\n",
    "\n",
    "    netflix_data=netflix_data.append({\"Date\":date,\"Open\":open,\"High\":high,\"Low\":low,\"Close\":close,\"Adj Close\":adj close,\"Volume\":volume},ignore_index=True)"
   ]
  },
  {
   "cell_type": "markdown",
   "id": "4e1952fe-a838-413d-a272-ef3c952aae88",
   "metadata": {},
   "source": [
    "We can now print out the dataframe"
   ]
  },
  {
   "cell_type": "code",
   "execution_count": null,
   "id": "09c5e85e-a33a-4fdd-99ae-c814f9051bf3",
   "metadata": {},
   "outputs": [],
   "source": [
    "netflix_data.head()"
   ]
  },
  {
   "cell_type": "markdown",
   "id": "55ac4fa0-c928-4352-865d-fe90b160c56c",
   "metadata": {},
   "source": [
    "We can also use the pandas `read_html` function using the url"
   ]
  },
  {
   "cell_type": "code",
   "execution_count": null,
   "id": "63fd02f2-ed39-47c6-a4d7-2d014f8abf7b",
   "metadata": {},
   "outputs": [],
   "source": [
    "read_html_pandas_data=pd.read_html(url)"
   ]
  },
  {
   "cell_type": "markdown",
   "id": "e1a97829-5c14-41d4-82a4-cefb415d29fa",
   "metadata": {},
   "source": [
    "Or we can convert the BeautifulSoup object to a string"
   ]
  },
  {
   "cell_type": "markdown",
   "id": "d8d971d2-3d29-4edb-b1ff-245921b0ab83",
   "metadata": {},
   "source": [
    "Because there is only one table on the page,we just take the first table in the list returned"
   ]
  },
  {
   "cell_type": "code",
   "execution_count": null,
   "id": "102f2f11-e5d2-4627-a1f9-59fe45d2e03d",
   "metadata": {},
   "outputs": [],
   "source": [
    "netflix_dataframe=read_html_pandas_data[0]\n",
    "netflix_dataframe.head()"
   ]
  },
  {
   "cell_type": "code",
   "execution_count": null,
   "id": "35ae7fd8-c0d5-45c2-a21a-0376dcc97194",
   "metadata": {},
   "outputs": [],
   "source": []
  }
 ],
 "metadata": {
  "kernelspec": {
   "display_name": "Python 3 (ipykernel)",
   "language": "python",
   "name": "python3"
  },
  "language_info": {
   "codemirror_mode": {
    "name": "ipython",
    "version": 3
   },
   "file_extension": ".py",
   "mimetype": "text/x-python",
   "name": "python",
   "nbconvert_exporter": "python",
   "pygments_lexer": "ipython3",
   "version": "3.10.10"
  }
 },
 "nbformat": 4,
 "nbformat_minor": 5
}
