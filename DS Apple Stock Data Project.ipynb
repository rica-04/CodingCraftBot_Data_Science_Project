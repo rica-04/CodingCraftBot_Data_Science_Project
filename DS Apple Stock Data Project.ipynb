{
 "cells": [
  {
   "cell_type": "code",
   "execution_count": 12,
   "id": "66fad755-e124-46b6-a313-2ee39a9ebcbc",
   "metadata": {},
   "outputs": [
    {
     "name": "stdout",
     "output_type": "stream",
     "text": [
      "Requirement already satisfied: yfinance in c:\\users\\admin\\appdata\\local\\programs\\python\\python312\\lib\\site-packages (0.2.32)\n",
      "Requirement already satisfied: pandas>=1.3.0 in c:\\users\\admin\\appdata\\local\\programs\\python\\python312\\lib\\site-packages (from yfinance) (2.1.3)\n",
      "Requirement already satisfied: numpy>=1.16.5 in c:\\users\\admin\\appdata\\local\\programs\\python\\python312\\lib\\site-packages (from yfinance) (1.26.2)\n",
      "Requirement already satisfied: requests>=2.31 in c:\\users\\admin\\appdata\\local\\programs\\python\\python312\\lib\\site-packages (from yfinance) (2.31.0)\n",
      "Requirement already satisfied: multitasking>=0.0.7 in c:\\users\\admin\\appdata\\local\\programs\\python\\python312\\lib\\site-packages (from yfinance) (0.0.11)\n",
      "Requirement already satisfied: lxml>=4.9.1 in c:\\users\\admin\\appdata\\local\\programs\\python\\python312\\lib\\site-packages (from yfinance) (4.9.3)\n",
      "Requirement already satisfied: appdirs>=1.4.4 in c:\\users\\admin\\appdata\\local\\programs\\python\\python312\\lib\\site-packages (from yfinance) (1.4.4)\n",
      "Requirement already satisfied: pytz>=2022.5 in c:\\users\\admin\\appdata\\local\\programs\\python\\python312\\lib\\site-packages (from yfinance) (2023.3.post1)\n",
      "Requirement already satisfied: frozendict>=2.3.4 in c:\\users\\admin\\appdata\\local\\programs\\python\\python312\\lib\\site-packages (from yfinance) (2.3.10)\n",
      "Requirement already satisfied: peewee>=3.16.2 in c:\\users\\admin\\appdata\\local\\programs\\python\\python312\\lib\\site-packages (from yfinance) (3.17.0)\n",
      "Requirement already satisfied: beautifulsoup4>=4.11.1 in c:\\users\\admin\\appdata\\local\\programs\\python\\python312\\lib\\site-packages (from yfinance) (4.12.2)\n",
      "Requirement already satisfied: html5lib>=1.1 in c:\\users\\admin\\appdata\\local\\programs\\python\\python312\\lib\\site-packages (from yfinance) (1.1)\n",
      "Requirement already satisfied: soupsieve>1.2 in c:\\users\\admin\\appdata\\local\\programs\\python\\python312\\lib\\site-packages (from beautifulsoup4>=4.11.1->yfinance) (2.5)\n",
      "Requirement already satisfied: six>=1.9 in c:\\users\\admin\\appdata\\local\\programs\\python\\python312\\lib\\site-packages (from html5lib>=1.1->yfinance) (1.16.0)\n",
      "Requirement already satisfied: webencodings in c:\\users\\admin\\appdata\\local\\programs\\python\\python312\\lib\\site-packages (from html5lib>=1.1->yfinance) (0.5.1)\n",
      "Requirement already satisfied: python-dateutil>=2.8.2 in c:\\users\\admin\\appdata\\local\\programs\\python\\python312\\lib\\site-packages (from pandas>=1.3.0->yfinance) (2.8.2)\n",
      "Requirement already satisfied: tzdata>=2022.1 in c:\\users\\admin\\appdata\\local\\programs\\python\\python312\\lib\\site-packages (from pandas>=1.3.0->yfinance) (2023.3)\n",
      "Requirement already satisfied: charset-normalizer<4,>=2 in c:\\users\\admin\\appdata\\local\\programs\\python\\python312\\lib\\site-packages (from requests>=2.31->yfinance) (3.3.2)\n",
      "Requirement already satisfied: idna<4,>=2.5 in c:\\users\\admin\\appdata\\local\\programs\\python\\python312\\lib\\site-packages (from requests>=2.31->yfinance) (3.6)\n",
      "Requirement already satisfied: urllib3<3,>=1.21.1 in c:\\users\\admin\\appdata\\local\\programs\\python\\python312\\lib\\site-packages (from requests>=2.31->yfinance) (2.1.0)\n",
      "Requirement already satisfied: certifi>=2017.4.17 in c:\\users\\admin\\appdata\\local\\programs\\python\\python312\\lib\\site-packages (from requests>=2.31->yfinance) (2023.11.17)\n"
     ]
    }
   ],
   "source": [
    "!pip install yfinance\n",
    "#!pip install pandas"
   ]
  },
  {
   "cell_type": "code",
   "execution_count": 13,
   "id": "d9862b76-f142-4de5-9f34-4902ea0af406",
   "metadata": {},
   "outputs": [],
   "source": [
    "import yfinance as yf\n",
    "import pandas as pd"
   ]
  },
  {
   "cell_type": "markdown",
   "id": "32290e16-8ecf-454b-a5e8-219093e4a710",
   "metadata": {},
   "source": [
    "__Using the yfinance Library to Extract Stock Data__"
   ]
  },
  {
   "cell_type": "markdown",
   "id": "0216f38b-e54a-48b8-a8ae-4da3c63c26e0",
   "metadata": {},
   "source": [
    "Using the `Ticker` module we can create an object that will allow us to access function to extract data.To do this we need to provide the ticker symbol for the stock,here the company is Apple and the Ticker symbol is `AAPL`."
   ]
  },
  {
   "cell_type": "code",
   "execution_count": 14,
   "id": "d1232462-6d13-4fe2-9955-8c1fa12d4129",
   "metadata": {},
   "outputs": [],
   "source": [
    "apple = yf.Ticker(\"AAPL\")"
   ]
  },
  {
   "cell_type": "markdown",
   "id": "ea5b88cb-8003-4aaa-94c8-1670a9666a5a",
   "metadata": {},
   "source": [
    "Stock Info"
   ]
  },
  {
   "cell_type": "markdown",
   "id": "1e4d606d-c08f-4b60-b39b-0d278c9b76f2",
   "metadata": {},
   "source": [
    "Now we can access functions and variable to extract the type of data we need.You can view them and what they represent here https://aroussi.com/post/python-yahoo-finance."
   ]
  },
  {
   "cell_type": "code",
   "execution_count": 15,
   "id": "88e75a31-fe10-43cc-aa00-e90c3ee651a2",
   "metadata": {},
   "outputs": [],
   "source": [
    "url= \"https://cf-courses-data.s3.us.cloud-object-storage.appdomain.cloud/IBMDeveloperSkillsNetwork-PY0220EN-SkillsNetwork/data/apple.json\""
   ]
  },
  {
   "cell_type": "markdown",
   "id": "deb7254b-2f5b-4c01-ac3c-aad4a6a9be73",
   "metadata": {},
   "source": [
    "__Stock Info__"
   ]
  },
  {
   "cell_type": "markdown",
   "id": "59908fef-1ad1-4678-8e3a-8e8d52c3ceed",
   "metadata": {},
   "source": [
    "Using the attribute info we can extract information about the stock as a Python dictionary."
   ]
  },
  {
   "cell_type": "code",
   "execution_count": 16,
   "id": "ace0d0c3-8d4e-48e2-b37d-fa62a3ea1a6f",
   "metadata": {},
   "outputs": [
    {
     "data": {
      "text/plain": [
       "{'address1': 'One Apple Park Way',\n",
       " 'city': 'Cupertino',\n",
       " 'state': 'CA',\n",
       " 'zip': '95014',\n",
       " 'country': 'United States',\n",
       " 'phone': '408 996 1010',\n",
       " 'website': 'https://www.apple.com',\n",
       " 'industry': 'Consumer Electronics',\n",
       " 'industryKey': 'consumer-electronics',\n",
       " 'industryDisp': 'Consumer Electronics',\n",
       " 'sector': 'Technology',\n",
       " 'sectorKey': 'technology',\n",
       " 'sectorDisp': 'Technology',\n",
       " 'longBusinessSummary': 'Apple Inc. designs, manufactures, and markets smartphones, personal computers, tablets, wearables, and accessories worldwide. The company offers iPhone, a line of smartphones; Mac, a line of personal computers; iPad, a line of multi-purpose tablets; and wearables, home, and accessories comprising AirPods, Apple TV, Apple Watch, Beats products, and HomePod. It also provides AppleCare support and cloud services; and operates various platforms, including the App Store that allow customers to discover and download applications and digital content, such as books, music, video, games, and podcasts. In addition, the company offers various services, such as Apple Arcade, a game subscription service; Apple Fitness+, a personalized fitness service; Apple Music, which offers users a curated listening experience with on-demand radio stations; Apple News+, a subscription news and magazine service; Apple TV+, which offers exclusive original content; Apple Card, a co-branded credit card; and Apple Pay, a cashless payment service, as well as licenses its intellectual property. The company serves consumers, and small and mid-sized businesses; and the education, enterprise, and government markets. It distributes third-party applications for its products through the App Store. The company also sells its products through its retail and online stores, and direct sales force; and third-party cellular network carriers, wholesalers, retailers, and resellers. Apple Inc. was founded in 1976 and is headquartered in Cupertino, California.',\n",
       " 'fullTimeEmployees': 161000,\n",
       " 'companyOfficers': [{'maxAge': 1,\n",
       "   'name': 'Mr. Timothy D. Cook',\n",
       "   'age': 61,\n",
       "   'title': 'CEO & Director',\n",
       "   'yearBorn': 1961,\n",
       "   'fiscalYear': 2022,\n",
       "   'totalPay': 16425933,\n",
       "   'exercisedValue': 0,\n",
       "   'unexercisedValue': 0},\n",
       "  {'maxAge': 1,\n",
       "   'name': 'Mr. Luca  Maestri',\n",
       "   'age': 59,\n",
       "   'title': 'CFO & Senior VP',\n",
       "   'yearBorn': 1963,\n",
       "   'fiscalYear': 2022,\n",
       "   'totalPay': 5019783,\n",
       "   'exercisedValue': 0,\n",
       "   'unexercisedValue': 0},\n",
       "  {'maxAge': 1,\n",
       "   'name': 'Mr. Jeffrey E. Williams',\n",
       "   'age': 58,\n",
       "   'title': 'Chief Operating Officer',\n",
       "   'yearBorn': 1964,\n",
       "   'fiscalYear': 2022,\n",
       "   'totalPay': 5018337,\n",
       "   'exercisedValue': 0,\n",
       "   'unexercisedValue': 0},\n",
       "  {'maxAge': 1,\n",
       "   'name': 'Ms. Katherine L. Adams',\n",
       "   'age': 58,\n",
       "   'title': 'Senior VP, General Counsel & Secretary',\n",
       "   'yearBorn': 1964,\n",
       "   'fiscalYear': 2022,\n",
       "   'totalPay': 5015208,\n",
       "   'exercisedValue': 0,\n",
       "   'unexercisedValue': 0},\n",
       "  {'maxAge': 1,\n",
       "   'name': \"Ms. Deirdre  O'Brien\",\n",
       "   'age': 55,\n",
       "   'title': 'Senior Vice President of Retail',\n",
       "   'yearBorn': 1967,\n",
       "   'fiscalYear': 2022,\n",
       "   'totalPay': 5019783,\n",
       "   'exercisedValue': 0,\n",
       "   'unexercisedValue': 0},\n",
       "  {'maxAge': 1,\n",
       "   'name': 'Mr. Chris  Kondo',\n",
       "   'title': 'Senior Director of Corporate Accounting',\n",
       "   'fiscalYear': 2022,\n",
       "   'exercisedValue': 0,\n",
       "   'unexercisedValue': 0},\n",
       "  {'maxAge': 1,\n",
       "   'name': 'Mr. James  Wilson',\n",
       "   'title': 'Chief Technology Officer',\n",
       "   'fiscalYear': 2022,\n",
       "   'exercisedValue': 0,\n",
       "   'unexercisedValue': 0},\n",
       "  {'maxAge': 1,\n",
       "   'name': 'Ms. Mary  Demby',\n",
       "   'title': 'Chief Information Officer',\n",
       "   'fiscalYear': 2022,\n",
       "   'exercisedValue': 0,\n",
       "   'unexercisedValue': 0},\n",
       "  {'maxAge': 1,\n",
       "   'name': 'Suhasini  Chandramouli',\n",
       "   'title': 'Director of Investor Relations',\n",
       "   'fiscalYear': 2022,\n",
       "   'exercisedValue': 0,\n",
       "   'unexercisedValue': 0},\n",
       "  {'maxAge': 1,\n",
       "   'name': 'Mr. Greg  Joswiak',\n",
       "   'title': 'Senior Vice President of Worldwide Marketing',\n",
       "   'fiscalYear': 2022,\n",
       "   'exercisedValue': 0,\n",
       "   'unexercisedValue': 0}],\n",
       " 'auditRisk': 4,\n",
       " 'boardRisk': 1,\n",
       " 'compensationRisk': 6,\n",
       " 'shareHolderRightsRisk': 1,\n",
       " 'overallRisk': 1,\n",
       " 'governanceEpochDate': 1701388800,\n",
       " 'compensationAsOfEpochDate': 1672444800,\n",
       " 'maxAge': 86400,\n",
       " 'priceHint': 2,\n",
       " 'previousClose': 189.95,\n",
       " 'open': 190.33,\n",
       " 'dayLow': 189.23,\n",
       " 'dayHigh': 191.555,\n",
       " 'regularMarketPreviousClose': 189.95,\n",
       " 'regularMarketOpen': 190.33,\n",
       " 'regularMarketDayLow': 189.23,\n",
       " 'regularMarketDayHigh': 191.555,\n",
       " 'dividendRate': 0.96,\n",
       " 'dividendYield': 0.005,\n",
       " 'exDividendDate': 1699574400,\n",
       " 'payoutRatio': 0.1533,\n",
       " 'fiveYearAvgDividendYield': 0.82,\n",
       " 'beta': 1.308,\n",
       " 'trailingPE': 31.146582,\n",
       " 'forwardPE': 26.746853,\n",
       " 'volume': 45704823,\n",
       " 'regularMarketVolume': 45704823,\n",
       " 'averageVolume': 57299031,\n",
       " 'averageVolume10days': 41568420,\n",
       " 'averageDailyVolume10Day': 41568420,\n",
       " 'bid': 189.9,\n",
       " 'ask': 190.0,\n",
       " 'bidSize': 3000,\n",
       " 'askSize': 800,\n",
       " 'marketCap': 2974317543424,\n",
       " 'fiftyTwoWeekLow': 124.17,\n",
       " 'fiftyTwoWeekHigh': 198.23,\n",
       " 'priceToSalesTrailing12Months': 7.7600675,\n",
       " 'fiftyDayAverage': 179.4516,\n",
       " 'twoHundredDayAverage': 175.26715,\n",
       " 'trailingAnnualDividendRate': 0.94,\n",
       " 'trailingAnnualDividendYield': 0.004948671,\n",
       " 'currency': 'USD',\n",
       " 'enterpriseValue': 3036683173888,\n",
       " 'profitMargins': 0.25305998,\n",
       " 'floatShares': 15535488445,\n",
       " 'sharesOutstanding': 15552799744,\n",
       " 'sharesShort': 105837123,\n",
       " 'sharesShortPriorMonth': 93026130,\n",
       " 'sharesShortPreviousMonthDate': 1697155200,\n",
       " 'dateShortInterest': 1700006400,\n",
       " 'sharesPercentSharesOut': 0.0068,\n",
       " 'heldPercentInsiders': 0.00071999995,\n",
       " 'heldPercentInstitutions': 0.61317,\n",
       " 'shortRatio': 1.81,\n",
       " 'shortPercentOfFloat': 0.0068,\n",
       " 'impliedSharesOutstanding': 15552799744,\n",
       " 'bookValue': 3.997,\n",
       " 'priceToBook': 47.845886,\n",
       " 'lastFiscalYearEnd': 1696032000,\n",
       " 'nextFiscalYearEnd': 1727654400,\n",
       " 'mostRecentQuarter': 1696032000,\n",
       " 'earningsQuarterlyGrowth': 0.108,\n",
       " 'netIncomeToCommon': 96995000320,\n",
       " 'trailingEps': 6.14,\n",
       " 'forwardEps': 7.15,\n",
       " 'pegRatio': 4.72,\n",
       " 'lastSplitFactor': '4:1',\n",
       " 'lastSplitDate': 1598832000,\n",
       " 'enterpriseToRevenue': 7.923,\n",
       " 'enterpriseToEbitda': 24.135,\n",
       " '52WeekChange': 0.3042351,\n",
       " 'SandP52WeekChange': 0.14899075,\n",
       " 'lastDividendValue': 0.24,\n",
       " 'lastDividendDate': 1699574400,\n",
       " 'exchange': 'NMS',\n",
       " 'quoteType': 'EQUITY',\n",
       " 'symbol': 'AAPL',\n",
       " 'underlyingSymbol': 'AAPL',\n",
       " 'shortName': 'Apple Inc.',\n",
       " 'longName': 'Apple Inc.',\n",
       " 'firstTradeDateEpochUtc': 345479400,\n",
       " 'timeZoneFullName': 'America/New_York',\n",
       " 'timeZoneShortName': 'EST',\n",
       " 'uuid': '8b10e4ae-9eeb-3684-921a-9ab27e4d87aa',\n",
       " 'messageBoardId': 'finmb_24937',\n",
       " 'gmtOffSetMilliseconds': -18000000,\n",
       " 'currentPrice': 191.24,\n",
       " 'targetHighPrice': 240.0,\n",
       " 'targetLowPrice': 159.0,\n",
       " 'targetMeanPrice': 198.01,\n",
       " 'targetMedianPrice': 200.0,\n",
       " 'recommendationMean': 2.1,\n",
       " 'recommendationKey': 'buy',\n",
       " 'numberOfAnalystOpinions': 39,\n",
       " 'totalCash': 61554999296,\n",
       " 'totalCashPerShare': 3.958,\n",
       " 'ebitda': 125820002304,\n",
       " 'totalDebt': 123930001408,\n",
       " 'quickRatio': 0.843,\n",
       " 'currentRatio': 0.988,\n",
       " 'totalRevenue': 383285002240,\n",
       " 'debtToEquity': 199.418,\n",
       " 'revenuePerShare': 24.344,\n",
       " 'returnOnAssets': 0.20256001,\n",
       " 'returnOnEquity': 1.7195,\n",
       " 'grossProfits': 170782000000,\n",
       " 'freeCashflow': 82179997696,\n",
       " 'operatingCashflow': 110543003648,\n",
       " 'earningsGrowth': 0.135,\n",
       " 'revenueGrowth': -0.007,\n",
       " 'grossMargins': 0.44131002,\n",
       " 'ebitdaMargins': 0.32827,\n",
       " 'operatingMargins': 0.30134,\n",
       " 'financialCurrency': 'USD',\n",
       " 'trailingPegRatio': 2.2549}"
      ]
     },
     "execution_count": 16,
     "metadata": {},
     "output_type": "execute_result"
    }
   ],
   "source": [
    "apple_info = apple.info\n",
    "apple_info"
   ]
  },
  {
   "cell_type": "markdown",
   "id": "af9fc89b-238e-4a7b-baf0-de7ccb0bbcbd",
   "metadata": {},
   "source": [
    "We can get the `'country'` using the key country"
   ]
  },
  {
   "cell_type": "code",
   "execution_count": 17,
   "id": "a7ca7b02-9eb8-4dc7-80a3-d3eeccd8189e",
   "metadata": {},
   "outputs": [
    {
     "data": {
      "text/plain": [
       "'United States'"
      ]
     },
     "execution_count": 17,
     "metadata": {},
     "output_type": "execute_result"
    }
   ],
   "source": [
    "apple_info['country']"
   ]
  },
  {
   "cell_type": "markdown",
   "id": "04c1ceb6-594e-4574-94b2-442af1d79363",
   "metadata": {},
   "source": [
    "__Extracting Share Price__"
   ]
  },
  {
   "cell_type": "markdown",
   "id": "a5b19997-6aa3-4cb3-80af-d2bf35651b89",
   "metadata": {},
   "source": [
    "A share is the single smallest part of a company's stock that you can buy,the prices of these shares fluctuate over time.Using the `history()` method we can get the share price of the stock over a certain period of time.Using the `period` parameter we can set how far back from the present to get data. The option for `period` are 1 day(1d),5d,1 month(1mo),3mo,6mo,1 year(1y),2y,5y,10y,ytd,and max."
   ]
  },
  {
   "cell_type": "code",
   "execution_count": 18,
   "id": "17223058-a767-4287-8edf-482cacab8710",
   "metadata": {},
   "outputs": [],
   "source": [
    "apple_share_price_data = apple.history(period=\"max\")"
   ]
  },
  {
   "cell_type": "markdown",
   "id": "f9572315-5764-4376-a225-4e745ccc74f6",
   "metadata": {},
   "source": [
    "The format that the data is returned in is a Pandas DataFrame.With the Date as the index the share `Open`,`High`,`Low`,`Close`,`Volume`,and `Stock Splits` are given for each day."
   ]
  },
  {
   "cell_type": "code",
   "execution_count": 19,
   "id": "23af7379-be40-427f-9f9f-cd7393b24d74",
   "metadata": {},
   "outputs": [
    {
     "data": {
      "text/html": [
       "<div>\n",
       "<style scoped>\n",
       "    .dataframe tbody tr th:only-of-type {\n",
       "        vertical-align: middle;\n",
       "    }\n",
       "\n",
       "    .dataframe tbody tr th {\n",
       "        vertical-align: top;\n",
       "    }\n",
       "\n",
       "    .dataframe thead th {\n",
       "        text-align: right;\n",
       "    }\n",
       "</style>\n",
       "<table border=\"1\" class=\"dataframe\">\n",
       "  <thead>\n",
       "    <tr style=\"text-align: right;\">\n",
       "      <th></th>\n",
       "      <th>Open</th>\n",
       "      <th>High</th>\n",
       "      <th>Low</th>\n",
       "      <th>Close</th>\n",
       "      <th>Volume</th>\n",
       "      <th>Dividends</th>\n",
       "      <th>Stock Splits</th>\n",
       "    </tr>\n",
       "    <tr>\n",
       "      <th>Date</th>\n",
       "      <th></th>\n",
       "      <th></th>\n",
       "      <th></th>\n",
       "      <th></th>\n",
       "      <th></th>\n",
       "      <th></th>\n",
       "      <th></th>\n",
       "    </tr>\n",
       "  </thead>\n",
       "  <tbody>\n",
       "    <tr>\n",
       "      <th>1980-12-12 00:00:00-05:00</th>\n",
       "      <td>0.099319</td>\n",
       "      <td>0.099750</td>\n",
       "      <td>0.099319</td>\n",
       "      <td>0.099319</td>\n",
       "      <td>469033600</td>\n",
       "      <td>0.0</td>\n",
       "      <td>0.0</td>\n",
       "    </tr>\n",
       "    <tr>\n",
       "      <th>1980-12-15 00:00:00-05:00</th>\n",
       "      <td>0.094569</td>\n",
       "      <td>0.094569</td>\n",
       "      <td>0.094137</td>\n",
       "      <td>0.094137</td>\n",
       "      <td>175884800</td>\n",
       "      <td>0.0</td>\n",
       "      <td>0.0</td>\n",
       "    </tr>\n",
       "    <tr>\n",
       "      <th>1980-12-16 00:00:00-05:00</th>\n",
       "      <td>0.087659</td>\n",
       "      <td>0.087659</td>\n",
       "      <td>0.087228</td>\n",
       "      <td>0.087228</td>\n",
       "      <td>105728000</td>\n",
       "      <td>0.0</td>\n",
       "      <td>0.0</td>\n",
       "    </tr>\n",
       "    <tr>\n",
       "      <th>1980-12-17 00:00:00-05:00</th>\n",
       "      <td>0.089387</td>\n",
       "      <td>0.089818</td>\n",
       "      <td>0.089387</td>\n",
       "      <td>0.089387</td>\n",
       "      <td>86441600</td>\n",
       "      <td>0.0</td>\n",
       "      <td>0.0</td>\n",
       "    </tr>\n",
       "    <tr>\n",
       "      <th>1980-12-18 00:00:00-05:00</th>\n",
       "      <td>0.091978</td>\n",
       "      <td>0.092410</td>\n",
       "      <td>0.091978</td>\n",
       "      <td>0.091978</td>\n",
       "      <td>73449600</td>\n",
       "      <td>0.0</td>\n",
       "      <td>0.0</td>\n",
       "    </tr>\n",
       "  </tbody>\n",
       "</table>\n",
       "</div>"
      ],
      "text/plain": [
       "                               Open      High       Low     Close     Volume  \\\n",
       "Date                                                                           \n",
       "1980-12-12 00:00:00-05:00  0.099319  0.099750  0.099319  0.099319  469033600   \n",
       "1980-12-15 00:00:00-05:00  0.094569  0.094569  0.094137  0.094137  175884800   \n",
       "1980-12-16 00:00:00-05:00  0.087659  0.087659  0.087228  0.087228  105728000   \n",
       "1980-12-17 00:00:00-05:00  0.089387  0.089818  0.089387  0.089387   86441600   \n",
       "1980-12-18 00:00:00-05:00  0.091978  0.092410  0.091978  0.091978   73449600   \n",
       "\n",
       "                           Dividends  Stock Splits  \n",
       "Date                                                \n",
       "1980-12-12 00:00:00-05:00        0.0           0.0  \n",
       "1980-12-15 00:00:00-05:00        0.0           0.0  \n",
       "1980-12-16 00:00:00-05:00        0.0           0.0  \n",
       "1980-12-17 00:00:00-05:00        0.0           0.0  \n",
       "1980-12-18 00:00:00-05:00        0.0           0.0  "
      ]
     },
     "execution_count": 19,
     "metadata": {},
     "output_type": "execute_result"
    }
   ],
   "source": [
    "apple_share_price_data.head()"
   ]
  },
  {
   "cell_type": "markdown",
   "id": "02ca928b-29b2-4b63-b516-e6e76e675204",
   "metadata": {},
   "source": [
    "We can reset the index of the DataFrame with the `reset_index` function. We also set the `inplace` parameter to `True` so the change takes place to the DataFrame itself."
   ]
  },
  {
   "cell_type": "code",
   "execution_count": 20,
   "id": "2b9afb71-7711-496f-a30d-a3e866e255ba",
   "metadata": {},
   "outputs": [],
   "source": [
    "apple_share_price_data.reset_index(inplace=True)"
   ]
  },
  {
   "cell_type": "markdown",
   "id": "297ad9dc-04d4-420d-8ec8-4267484323c0",
   "metadata": {},
   "source": [
    "We can plot the `Open` price against the `Date`:"
   ]
  },
  {
   "cell_type": "code",
   "execution_count": 21,
   "id": "369177aa-20d7-48a2-bd59-5ad5a12bfda4",
   "metadata": {},
   "outputs": [
    {
     "data": {
      "text/plain": [
       "<Axes: xlabel='Date'>"
      ]
     },
     "execution_count": 21,
     "metadata": {},
     "output_type": "execute_result"
    },
    {
     "data": {
      "image/png": "[encoded data removed]",
      "text/plain": [
       "<Figure size 640x480 with 1 Axes>"
      ]
     },
     "metadata": {},
     "output_type": "display_data"
    }
   ],
   "source": [
    "apple_share_price_data.plot(x=\"Date\",y=\"Open\")"
   ]
  },
  {
   "cell_type": "markdown",
   "id": "711b544c-8359-4814-b7c6-04a2f26cd419",
   "metadata": {},
   "source": [
    "__Extracting Dividends__"
   ]
  },
  {
   "cell_type": "markdown",
   "id": "f517e3b2-477b-4819-b72d-d108cffb2b19",
   "metadata": {},
   "source": [
    "Dividends are the distribution of a companys profits to shareholders. In this case they are defined as an amount of money returned per share an investor owns. Using the variable `dividends` we can get a dataframe of the data. The period of the data is given by the period defined in the 'history' function."
   ]
  },
  {
   "cell_type": "code",
   "execution_count": 24,
   "id": "17df4d89-9a71-4a51-9814-452ddcb9606b",
   "metadata": {},
   "outputs": [
    {
     "data": {
      "text/plain": [
       "Date\n",
       "1987-05-11 00:00:00-04:00    0.000536\n",
       "1987-08-10 00:00:00-04:00    0.000536\n",
       "1987-11-17 00:00:00-05:00    0.000714\n",
       "1988-02-12 00:00:00-05:00    0.000714\n",
       "1988-05-16 00:00:00-04:00    0.000714\n",
       "                               ...   \n",
       "2022-11-04 00:00:00-04:00    0.230000\n",
       "2023-02-10 00:00:00-05:00    0.230000\n",
       "2023-05-12 00:00:00-04:00    0.240000\n",
       "2023-08-11 00:00:00-04:00    0.240000\n",
       "2023-11-10 00:00:00-05:00    0.240000\n",
       "Name: Dividends, Length: 81, dtype: float64"
      ]
     },
     "execution_count": 24,
     "metadata": {},
     "output_type": "execute_result"
    }
   ],
   "source": [
    "apple.dividends"
   ]
  },
  {
   "cell_type": "markdown",
   "id": "590acdf5-f444-4c5f-ab40-61d9b580acd3",
   "metadata": {},
   "source": [
    "We can plot the dividends overtime:"
   ]
  },
  {
   "cell_type": "code",
   "execution_count": 25,
   "id": "45046464-e3f6-4e48-a07b-5c6aa22a346e",
   "metadata": {},
   "outputs": [
    {
     "data": {
      "text/plain": [
       "<Axes: xlabel='Date'>"
      ]
     },
     "execution_count": 25,
     "metadata": {},
     "output_type": "execute_result"
    },
    {
     "data": {
      "image/png": "[encoded data removed]",
      "text/plain": [
       "<Figure size 640x480 with 1 Axes>"
      ]
     },
     "metadata": {},
     "output_type": "display_data"
    }
   ],
   "source": [
    "apple.dividends.plot()"
   ]
  },
  {
   "cell_type": "code",
   "execution_count": null,
   "id": "95b185ba-cd0d-4776-971f-2d0d517e5e04",
   "metadata": {},
   "outputs": [],
   "source": []
  }
 ],
 "metadata": {
  "kernelspec": {
   "display_name": "Python 3 (ipykernel)",
   "language": "python",
   "name": "python3"
  },
  "language_info": {
   "codemirror_mode": {
    "name": "ipython",
    "version": 3
   },
   "file_extension": ".py",
   "mimetype": "text/x-python",
   "name": "python",
   "nbconvert_exporter": "python",
   "pygments_lexer": "ipython3",
   "version": "3.10.10"
  }
 },
 "nbformat": 4,
 "nbformat_minor": 5
}
