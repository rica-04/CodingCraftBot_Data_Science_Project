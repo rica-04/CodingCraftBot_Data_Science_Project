{
 "cells": [
  {
   "cell_type": "code",
   "execution_count": null,
   "id": "4586c2e2-e319-49c1-9a79-058b96886153",
   "metadata": {},
   "outputs": [],
   "source": [
    "#!pip install pandas\n",
    "#!pip install requests\n",
    "!pip install bs4\n",
    "#!pip install plotly"
   ]
  },
  {
   "cell_type": "code",
   "execution_count": null,
   "id": "aa6863bb-8e12-41cf-8dbf-4e0495d05e4d",
   "metadata": {},
   "outputs": [],
   "source": [
    "import pandas as pd\n",
    "import requests\n",
    "from bs4 import BeautifulSoup"
   ]
  },
  {
   "cell_type": "markdown",
   "id": "61e8d6a8-787b-426d-8950-039e82ad6447",
   "metadata": {},
   "source": [
    "__Using Webscraping to Extract Stock Data Example__"
   ]
  },
  {
   "cell_type": "markdown",
   "id": "00bb91c1-edec-4aab-8139-39b8979d68d9",
   "metadata": {},
   "source": [
    "Use the `requests` library to download the webpage https://cf-courses-data.s3.us.cloud-object-storage.appdomain.cloud/IBMDeveloperSkillsNetwork-PY0220EN-SkillsNetwork/labs/project/amazon_data_webpage.html.\n",
    "Save the text of the response as a variable named `html_data`."
   ]
  },
  {
   "cell_type": "code",
   "execution_count": null,
   "id": "23fd6853-baf3-4f6a-bc7e-4cab971bc220",
   "metadata": {},
   "outputs": [],
   "source": [
    "new_url=\"https://cf-courses-data.s3.us.cloud-object-storage.appdomain.cloud/IBMDeveloperSkillsNetwork-PY0220EN-SkillsNetwork/labs/project/amazon_data_webpage.html\"\n",
    "html_data=requests.get(new_url).text"
   ]
  },
  {
   "cell_type": "markdown",
   "id": "b23b5205-ea41-4d89-8fca-e8b06cc62d36",
   "metadata": {},
   "source": [
    "Parse the html data using `beautiful_soup`."
   ]
  },
  {
   "cell_type": "code",
   "execution_count": null,
   "id": "2df6bb2a-5336-4f87-a1aa-0c92f3085783",
   "metadata": {},
   "outputs": [],
   "source": [
    "beautiful_soup=BeautifulSoup(html_data,'html5lib')"
   ]
  },
  {
   "cell_type": "markdown",
   "id": "4e869c6f-17ec-4f4e-8959-76f582f0f955",
   "metadata": {},
   "source": [
    "__Question 1__"
   ]
  },
  {
   "cell_type": "markdown",
   "id": "933bcc2e-0804-4244-81c7-ba74f6fcfc03",
   "metadata": {},
   "source": [
    "What is the content of the title attribute:"
   ]
  },
  {
   "cell_type": "code",
   "execution_count": null,
   "id": "3c537c47-f5df-4ee2-9c59-a21460cec4e2",
   "metadata": {},
   "outputs": [],
   "source": [
    "soup_title=beautiful_soup.title\n",
    "print(\"The title is:\",soup_title)"
   ]
  },
  {
   "cell_type": "markdown",
   "id": "d44d9f52-8e49-4f29-a0c9-2e868ff2b8f5",
   "metadata": {},
   "source": [
    "Using beautiful soup extract the table with historical share prices and store it into a dataframe named `amazon_data`.The dataframe should have columns Date,Open,High,Low,Close,and Volume.Fill in each variable with the correct data from the list `col`."
   ]
  },
  {
   "cell_type": "code",
   "execution_count": null,
   "id": "66e7d68a-fae6-4527-bee1-1330d116badb",
   "metadata": {},
   "outputs": [],
   "source": [
    "amazon_data=pd.DataFrame(columns=[\"Date\",\"Open\",\"High\",\"Low\",\"Close\",\"Volume\"])\n",
    "for row in soup.find(\"tbody\").find_all(\"tr\"):\n",
    "    col=row.find_all(\"td\")\n",
    "    date=col[0].text\n",
    "    Open=col[1].text\n",
    "    high=col[2].text\n",
    "    low=col[3].text\n",
    "    close=col[4].text\n",
    "    adj_close=col[5].text\n",
    "    volume=col[6].text\n",
    "\n",
    "    amazon_data=amazon_data.append({\"Date\":date, \"Open\":open, \"High\":high, \"Low\":low, \"Close\":close, \"Adj Close\":adj_close, \"Volume\":volume},ignore_index=True)"
   ]
  },
  {
   "cell_type": "code",
   "execution_count": 27,
   "id": "a7d0f243-3efb-4069-bc71-386d077f491e",
   "metadata": {},
   "outputs": [
    {
     "data": {
      "text/html": [
       "<div>\n",
       "<style scoped>\n",
       "    .dataframe tbody tr th:only-of-type {\n",
       "        vertical-align: middle;\n",
       "    }\n",
       "\n",
       "    .dataframe tbody tr th {\n",
       "        vertical-align: top;\n",
       "    }\n",
       "\n",
       "    .dataframe thead th {\n",
       "        text-align: right;\n",
       "    }\n",
       "</style>\n",
       "<table border=\"1\" class=\"dataframe\">\n",
       "  <thead>\n",
       "    <tr style=\"text-align: right;\">\n",
       "      <th></th>\n",
       "      <th>Date</th>\n",
       "      <th>Open</th>\n",
       "      <th>High</th>\n",
       "      <th>Low</th>\n",
       "      <th>Close</th>\n",
       "      <th>Volume</th>\n",
       "    </tr>\n",
       "  </thead>\n",
       "  <tbody>\n",
       "  </tbody>\n",
       "</table>\n",
       "</div>"
      ],
      "text/plain": [
       "Empty DataFrame\n",
       "Columns: [Date, Open, High, Low, Close, Volume]\n",
       "Index: []"
      ]
     },
     "execution_count": 27,
     "metadata": {},
     "output_type": "execute_result"
    }
   ],
   "source": [
    "amazon_data.head()"
   ]
  },
  {
   "cell_type": "markdown",
   "id": "c53dba5b-89a5-4ca3-96f0-9bc0d00b452d",
   "metadata": {},
   "source": [
    "__Question 2__"
   ]
  },
  {
   "cell_type": "markdown",
   "id": "0a30a47e-6ce9-4c71-a065-166ae318dd55",
   "metadata": {},
   "source": [
    "What is the name of the columns of the dataframe:"
   ]
  },
  {
   "cell_type": "code",
   "execution_count": 28,
   "id": "a61ee049-4861-4812-9550-c5b615936933",
   "metadata": {},
   "outputs": [
    {
     "data": {
      "text/plain": [
       "Index(['Date', 'Open', 'High', 'Low', 'Close', 'Volume'], dtype='object')"
      ]
     },
     "execution_count": 28,
     "metadata": {},
     "output_type": "execute_result"
    }
   ],
   "source": [
    "amazon_data.columns"
   ]
  },
  {
   "cell_type": "markdown",
   "id": "b8a84cd2-3cb0-49e6-8b18-aae4b0a73bc4",
   "metadata": {},
   "source": [
    "__Question 3__"
   ]
  },
  {
   "cell_type": "markdown",
   "id": "bd99a479-eea6-4b81-ac94-ed2f8bc7aa89",
   "metadata": {},
   "source": [
    "What is the `Open` of the last row of the amazon_data dataframe?"
   ]
  },
  {
   "cell_type": "code",
   "execution_count": null,
   "id": "f0124795-c446-4221-899b-079d1c71d7ee",
   "metadata": {},
   "outputs": [],
   "source": [
    "amazon_data.loc[amazon_data[\"Date\"]==\"Jun 01,2019\"]"
   ]
  },
  {
   "cell_type": "code",
   "execution_count": null,
   "id": "081c3c86-6afa-47ea-b2a6-1fd7a6cd3d8f",
   "metadata": {},
   "outputs": [],
   "source": []
  }
 ],
 "metadata": {
  "kernelspec": {
   "display_name": "Python 3 (ipykernel)",
   "language": "python",
   "name": "python3"
  },
  "language_info": {
   "codemirror_mode": {
    "name": "ipython",
    "version": 3
   },
   "file_extension": ".py",
   "mimetype": "text/x-python",
   "name": "python",
   "nbconvert_exporter": "python",
   "pygments_lexer": "ipython3",
   "version": "3.10.10"
  }
 },
 "nbformat": 4,
 "nbformat_minor": 5
}
